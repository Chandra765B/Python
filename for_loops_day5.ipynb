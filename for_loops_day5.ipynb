{
 "cells": [
  {
   "cell_type": "code",
   "execution_count": 1,
   "metadata": {},
   "outputs": [],
   "source": [
    "#for loops implementation\n",
    "name=[\"Chand\",\"guddu\",\"sonu\",\"bhoomika\",\"vanita\",\"Dhana\",\"tharini\"]"
   ]
  },
  {
   "cell_type": "code",
   "execution_count": 3,
   "metadata": {},
   "outputs": [
    {
     "name": "stdout",
     "output_type": "stream",
     "text": [
      "Have a nice day Chand\n"
     ]
    }
   ],
   "source": [
    "print(f\"Have a nice day {name[0].title()}\")"
   ]
  },
  {
   "cell_type": "code",
   "execution_count": 6,
   "metadata": {},
   "outputs": [
    {
     "name": "stdout",
     "output_type": "stream",
     "text": [
      "Will meet up soon Chand , stay safe till then :)\n",
      "Will meet up soon guddu , stay safe till then :)\n",
      "Will meet up soon sonu , stay safe till then :)\n",
      "Will meet up soon bhoomika , stay safe till then :)\n",
      "Will meet up soon vanita , stay safe till then :)\n",
      "Will meet up soon Dhana , stay safe till then :)\n",
      "Will meet up soon tharini , stay safe till then :)\n"
     ]
    }
   ],
   "source": [
    "#mplementing the above code for many names is practicaally impossible as it will decrease the efficiency of time\n",
    "#so we will implement for loop to crete personalised message for every user\n",
    "for girls in name:\n",
    "    print(f\"Will meet up soon {girls} , stay safe till then :)\")\n",
    "    #since python doesn't have parenthesis we use spaces to defne a block of code \n"
   ]
  },
  {
   "cell_type": "code",
   "execution_count": null,
   "metadata": {},
   "outputs": [],
   "source": []
  }
 ],
 "metadata": {
  "kernelspec": {
   "display_name": "Python 3",
   "language": "python",
   "name": "python3"
  },
  "language_info": {
   "codemirror_mode": {
    "name": "ipython",
    "version": 3
   },
   "file_extension": ".py",
   "mimetype": "text/x-python",
   "name": "python",
   "nbconvert_exporter": "python",
   "pygments_lexer": "ipython3",
   "version": "3.7.6"
  }
 },
 "nbformat": 4,
 "nbformat_minor": 4
}
