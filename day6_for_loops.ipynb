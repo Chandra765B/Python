{
 "cells": [
  {
   "cell_type": "code",
   "execution_count": 1,
   "metadata": {},
   "outputs": [],
   "source": [
    "students = [\"Chand\",\"bhoom\",\"guddu\",\"sonu\",\"doll\"]"
   ]
  },
  {
   "cell_type": "code",
   "execution_count": 2,
   "metadata": {},
   "outputs": [
    {
     "name": "stdout",
     "output_type": "stream",
     "text": [
      "keep up the good work ,Chand\n",
      "keep up the good work ,Bhoom\n",
      "keep up the good work ,Guddu\n",
      "keep up the good work ,Sonu\n",
      "keep up the good work ,Doll\n",
      "Welcome to the class\n"
     ]
    }
   ],
   "source": [
    "for ran in students :\n",
    "    print(f\"keep up the good work ,{ran.title()}\")\n",
    "print(\"Welcome to the class\")"
   ]
  },
  {
   "cell_type": "code",
   "execution_count": 3,
   "metadata": {},
   "outputs": [
    {
     "name": "stdout",
     "output_type": "stream",
     "text": [
      "Lily\n",
      "Rose\n",
      "LAVENDERS\n",
      "Orchids\n",
      "fragrance is so beautiful\n"
     ]
    }
   ],
   "source": [
    "#if-else condition\n",
    "flowers = [\"lily\",\"rose\",\"lavenders\",\"orchids\"]\n",
    "for x in flowers :\n",
    "    if x==\"lavenders\" :\n",
    "        print(x.upper())\n",
    "    else :\n",
    "        print(x.title())\n",
    "print(\"fragrance is so beautiful\")"
   ]
  },
  {
   "cell_type": "code",
   "execution_count": 4,
   "metadata": {},
   "outputs": [
    {
     "data": {
      "text/plain": [
       "['lily']"
      ]
     },
     "execution_count": 4,
     "metadata": {},
     "output_type": "execute_result"
    }
   ],
   "source": [
    "#slicing the list\n",
    "flowers[0:2:4]\n"
   ]
  },
  {
   "cell_type": "code",
   "execution_count": 5,
   "metadata": {},
   "outputs": [
    {
     "name": "stdout",
     "output_type": "stream",
     "text": [
      "['lily', 'rose']\n"
     ]
    }
   ],
   "source": [
    "print(flowers[0:2])"
   ]
  },
  {
   "cell_type": "code",
   "execution_count": null,
   "metadata": {},
   "outputs": [],
   "source": []
  }
 ],
 "metadata": {
  "kernelspec": {
   "display_name": "Python 3",
   "language": "python",
   "name": "python3"
  },
  "language_info": {
   "codemirror_mode": {
    "name": "ipython",
    "version": 3
   },
   "file_extension": ".py",
   "mimetype": "text/x-python",
   "name": "python",
   "nbconvert_exporter": "python",
   "pygments_lexer": "ipython3",
   "version": "3.7.6"
  }
 },
 "nbformat": 4,
 "nbformat_minor": 4
}
